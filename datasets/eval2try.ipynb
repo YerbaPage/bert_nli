{
 "cells": [
  {
   "cell_type": "code",
   "execution_count": 1,
   "metadata": {},
   "outputs": [],
   "source": [
    "import numpy as np\n",
    "import pandas as pd"
   ]
  },
  {
   "cell_type": "code",
   "execution_count": 4,
   "metadata": {},
   "outputs": [],
   "source": [
    "sentences = pd.read_table('eval.txt', header=None)"
   ]
  },
  {
   "cell_type": "code",
   "execution_count": 5,
   "metadata": {},
   "outputs": [
    {
     "data": {
      "text/html": [
       "<div>\n",
       "<style scoped>\n",
       "    .dataframe tbody tr th:only-of-type {\n",
       "        vertical-align: middle;\n",
       "    }\n",
       "\n",
       "    .dataframe tbody tr th {\n",
       "        vertical-align: top;\n",
       "    }\n",
       "\n",
       "    .dataframe thead th {\n",
       "        text-align: right;\n",
       "    }\n",
       "</style>\n",
       "<table border=\"1\" class=\"dataframe\">\n",
       "  <thead>\n",
       "    <tr style=\"text-align: right;\">\n",
       "      <th></th>\n",
       "      <th>0</th>\n",
       "      <th>1</th>\n",
       "      <th>2</th>\n",
       "    </tr>\n",
       "  </thead>\n",
       "  <tbody>\n",
       "    <tr>\n",
       "      <td>0</td>\n",
       "      <td>20000</td>\n",
       "      <td>A man in a green apron roasts a pig over coals.</td>\n",
       "      <td>The man roasts the pig.</td>\n",
       "    </tr>\n",
       "    <tr>\n",
       "      <td>1</td>\n",
       "      <td>20001</td>\n",
       "      <td>A man in a green apron roasts a pig over coals.</td>\n",
       "      <td>The woman is roasting a duck.</td>\n",
       "    </tr>\n",
       "    <tr>\n",
       "      <td>2</td>\n",
       "      <td>20002</td>\n",
       "      <td>A man in a green apron roasts a pig over coals.</td>\n",
       "      <td>The Hawaiin man roasts a pig over coals.</td>\n",
       "    </tr>\n",
       "    <tr>\n",
       "      <td>3</td>\n",
       "      <td>20003</td>\n",
       "      <td>An Asian man cooking meat over an open grill.</td>\n",
       "      <td>the guy cooks meat</td>\n",
       "    </tr>\n",
       "    <tr>\n",
       "      <td>4</td>\n",
       "      <td>20004</td>\n",
       "      <td>An Asian man cooking meat over an open grill.</td>\n",
       "      <td>the guy cooks meat for the family</td>\n",
       "    </tr>\n",
       "    <tr>\n",
       "      <td>...</td>\n",
       "      <td>...</td>\n",
       "      <td>...</td>\n",
       "      <td>...</td>\n",
       "    </tr>\n",
       "    <tr>\n",
       "      <td>4995</td>\n",
       "      <td>24995</td>\n",
       "      <td>A Food Service Worker sitting on the Counter.</td>\n",
       "      <td>A work is standing serving food.</td>\n",
       "    </tr>\n",
       "    <tr>\n",
       "      <td>4996</td>\n",
       "      <td>24996</td>\n",
       "      <td>A Food Service Worker sitting on the Counter.</td>\n",
       "      <td>A person is sitting.</td>\n",
       "    </tr>\n",
       "    <tr>\n",
       "      <td>4997</td>\n",
       "      <td>24997</td>\n",
       "      <td>A man sitting on a chair with his legs crossed...</td>\n",
       "      <td>A woman is baking a cake with her daughter.</td>\n",
       "    </tr>\n",
       "    <tr>\n",
       "      <td>4998</td>\n",
       "      <td>24998</td>\n",
       "      <td>A man sitting on a chair with his legs crossed...</td>\n",
       "      <td>A man looking off to the right while sitting o...</td>\n",
       "    </tr>\n",
       "    <tr>\n",
       "      <td>4999</td>\n",
       "      <td>24999</td>\n",
       "      <td>A man sitting on a chair with his legs crossed...</td>\n",
       "      <td>A man sitting on a chair with his legs crossed...</td>\n",
       "    </tr>\n",
       "  </tbody>\n",
       "</table>\n",
       "<p>5000 rows × 3 columns</p>\n",
       "</div>"
      ],
      "text/plain": [
       "          0                                                  1  \\\n",
       "0     20000    A man in a green apron roasts a pig over coals.   \n",
       "1     20001    A man in a green apron roasts a pig over coals.   \n",
       "2     20002    A man in a green apron roasts a pig over coals.   \n",
       "3     20003      An Asian man cooking meat over an open grill.   \n",
       "4     20004      An Asian man cooking meat over an open grill.   \n",
       "...     ...                                                ...   \n",
       "4995  24995      A Food Service Worker sitting on the Counter.   \n",
       "4996  24996      A Food Service Worker sitting on the Counter.   \n",
       "4997  24997  A man sitting on a chair with his legs crossed...   \n",
       "4998  24998  A man sitting on a chair with his legs crossed...   \n",
       "4999  24999  A man sitting on a chair with his legs crossed...   \n",
       "\n",
       "                                                      2  \n",
       "0                               The man roasts the pig.  \n",
       "1                         The woman is roasting a duck.  \n",
       "2              The Hawaiin man roasts a pig over coals.  \n",
       "3                                    the guy cooks meat  \n",
       "4                     the guy cooks meat for the family  \n",
       "...                                                 ...  \n",
       "4995                   A work is standing serving food.  \n",
       "4996                               A person is sitting.  \n",
       "4997        A woman is baking a cake with her daughter.  \n",
       "4998  A man looking off to the right while sitting o...  \n",
       "4999  A man sitting on a chair with his legs crossed...  \n",
       "\n",
       "[5000 rows x 3 columns]"
      ]
     },
     "execution_count": 5,
     "metadata": {},
     "output_type": "execute_result"
    }
   ],
   "source": [
    "sentences"
   ]
  },
  {
   "cell_type": "code",
   "execution_count": 6,
   "metadata": {},
   "outputs": [
    {
     "data": {
      "text/plain": [
       "0         A man in a green apron roasts a pig over coals.\n",
       "1         A man in a green apron roasts a pig over coals.\n",
       "2         A man in a green apron roasts a pig over coals.\n",
       "3           An Asian man cooking meat over an open grill.\n",
       "4           An Asian man cooking meat over an open grill.\n",
       "                              ...                        \n",
       "4995        A Food Service Worker sitting on the Counter.\n",
       "4996        A Food Service Worker sitting on the Counter.\n",
       "4997    A man sitting on a chair with his legs crossed...\n",
       "4998    A man sitting on a chair with his legs crossed...\n",
       "4999    A man sitting on a chair with his legs crossed...\n",
       "Name: 1, Length: 5000, dtype: object"
      ]
     },
     "execution_count": 6,
     "metadata": {},
     "output_type": "execute_result"
    }
   ],
   "source": [
    "sentences[1]"
   ]
  },
  {
   "cell_type": "code",
   "execution_count": 7,
   "metadata": {},
   "outputs": [
    {
     "name": "stderr",
     "output_type": "stream",
     "text": [
      "C:\\Users\\ASUS\\Anaconda3\\lib\\site-packages\\ipykernel_launcher.py:1: FutureWarning: The signature of `Series.to_csv` was aligned to that of `DataFrame.to_csv`, and argument 'header' will change its default value from False to True: please pass an explicit value to suppress this warning.\n",
      "  \"\"\"Entry point for launching an IPython kernel.\n",
      "C:\\Users\\ASUS\\Anaconda3\\lib\\site-packages\\ipykernel_launcher.py:2: FutureWarning: The signature of `Series.to_csv` was aligned to that of `DataFrame.to_csv`, and argument 'header' will change its default value from False to True: please pass an explicit value to suppress this warning.\n",
      "  \n"
     ]
    }
   ],
   "source": [
    "sentences[1].to_csv('s1.try', sep='\\n', index=False)\n",
    "sentences[2].to_csv('s2.try', sep='\\n', index=False)"
   ]
  },
  {
   "cell_type": "code",
   "execution_count": 9,
   "metadata": {},
   "outputs": [],
   "source": [
    "labels = pd.read_table('label.try', header=None)"
   ]
  },
  {
   "cell_type": "code",
   "execution_count": 11,
   "metadata": {},
   "outputs": [],
   "source": [
    "labels.to_csv('labels.csv', index=False)"
   ]
  },
  {
   "cell_type": "markdown",
   "metadata": {},
   "source": [
    "## train and test"
   ]
  },
  {
   "cell_type": "code",
   "execution_count": 3,
   "metadata": {},
   "outputs": [],
   "source": [
    "sentences = pd.read_table('train.txt', header=None)"
   ]
  },
  {
   "cell_type": "code",
   "execution_count": 11,
   "metadata": {},
   "outputs": [],
   "source": [
    "train = sentences[0:16000]\n",
    "test = sentences[16000:]"
   ]
  },
  {
   "cell_type": "code",
   "execution_count": 15,
   "metadata": {
    "scrolled": false
   },
   "outputs": [
    {
     "name": "stderr",
     "output_type": "stream",
     "text": [
      "C:\\Users\\ASUS\\Anaconda3\\lib\\site-packages\\ipykernel_launcher.py:1: FutureWarning: The signature of `Series.to_csv` was aligned to that of `DataFrame.to_csv`, and argument 'header' will change its default value from False to True: please pass an explicit value to suppress this warning.\n",
      "  \"\"\"Entry point for launching an IPython kernel.\n"
     ]
    }
   ],
   "source": [
    "train[1].to_csv('s1.train', sep='\\n', index=False)\n",
    "\n",
    "train[2].to_csv('s2.train', sep='\\n', index=False)\n",
    "\n",
    "train[3].to_csv('label.train', sep='\\n', index=False)"
   ]
  },
  {
   "cell_type": "code",
   "execution_count": 18,
   "metadata": {},
   "outputs": [
    {
     "name": "stderr",
     "output_type": "stream",
     "text": [
      "C:\\Users\\ASUS\\Anaconda3\\lib\\site-packages\\ipykernel_launcher.py:1: FutureWarning: The signature of `Series.to_csv` was aligned to that of `DataFrame.to_csv`, and argument 'header' will change its default value from False to True: please pass an explicit value to suppress this warning.\n",
      "  \"\"\"Entry point for launching an IPython kernel.\n",
      "C:\\Users\\ASUS\\Anaconda3\\lib\\site-packages\\ipykernel_launcher.py:3: FutureWarning: The signature of `Series.to_csv` was aligned to that of `DataFrame.to_csv`, and argument 'header' will change its default value from False to True: please pass an explicit value to suppress this warning.\n",
      "  This is separate from the ipykernel package so we can avoid doing imports until\n",
      "C:\\Users\\ASUS\\Anaconda3\\lib\\site-packages\\ipykernel_launcher.py:5: FutureWarning: The signature of `Series.to_csv` was aligned to that of `DataFrame.to_csv`, and argument 'header' will change its default value from False to True: please pass an explicit value to suppress this warning.\n",
      "  \"\"\"\n"
     ]
    }
   ],
   "source": [
    "test[1].to_csv('s1.dev', sep='\\n', index=False)\n",
    "\n",
    "test[2].to_csv('s2.dev', sep='\\n', index=False)\n",
    "\n",
    "test[3].to_csv('label.dev', sep='\\n', index=False)"
   ]
  },
  {
   "cell_type": "code",
   "execution_count": null,
   "metadata": {},
   "outputs": [],
   "source": []
  }
 ],
 "metadata": {
  "kernelspec": {
   "display_name": "Python 3",
   "language": "python",
   "name": "python3"
  },
  "language_info": {
   "codemirror_mode": {
    "name": "ipython",
    "version": 3
   },
   "file_extension": ".py",
   "mimetype": "text/x-python",
   "name": "python",
   "nbconvert_exporter": "python",
   "pygments_lexer": "ipython3",
   "version": "3.7.4"
  },
  "toc": {
   "base_numbering": 1,
   "nav_menu": {},
   "number_sections": true,
   "sideBar": false,
   "skip_h1_title": false,
   "title_cell": "Table of Contents",
   "title_sidebar": "Contents",
   "toc_cell": false,
   "toc_position": {},
   "toc_section_display": true,
   "toc_window_display": false
  }
 },
 "nbformat": 4,
 "nbformat_minor": 2
}
